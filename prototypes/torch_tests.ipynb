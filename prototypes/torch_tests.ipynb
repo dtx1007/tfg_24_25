{
 "cells": [
  {
   "cell_type": "code",
   "execution_count": null,
   "metadata": {},
   "outputs": [
    {
     "name": "stdout",
     "output_type": "stream",
     "text": [
      "Using the GPU\n",
      "Device tensor is stored on: cuda:0\n",
      "First row: tensor([1., 1., 1., 1.], device='cuda:0')\n",
      "Fist columns: tensor([1., 1., 1., 1.], device='cuda:0')\n",
      "Last column: tensor([1., 1., 1., 1.], device='cuda:0')\n",
      "tensor([[1., 0., 1., 1.],\n",
      "        [1., 0., 1., 1.],\n",
      "        [1., 0., 1., 1.],\n",
      "        [1., 0., 1., 1.]], device='cuda:0')\n",
      "y1=tensor([[3., 3., 3., 3.],\n",
      "        [3., 3., 3., 3.],\n",
      "        [3., 3., 3., 3.],\n",
      "        [3., 3., 3., 3.]], device='cuda:0')\n",
      "y2=tensor([[3., 3., 3., 3.],\n",
      "        [3., 3., 3., 3.],\n",
      "        [3., 3., 3., 3.],\n",
      "        [3., 3., 3., 3.]], device='cuda:0')\n",
      "y3=tensor([[3., 3., 3., 3.],\n",
      "        [3., 3., 3., 3.],\n",
      "        [3., 3., 3., 3.],\n",
      "        [3., 3., 3., 3.]], device='cuda:0')\n",
      "z1=tensor([[1., 0., 1., 1.],\n",
      "        [1., 0., 1., 1.],\n",
      "        [1., 0., 1., 1.],\n",
      "        [1., 0., 1., 1.]], device='cuda:0')\n",
      "z2=tensor([[1., 0., 1., 1.],\n",
      "        [1., 0., 1., 1.],\n",
      "        [1., 0., 1., 1.],\n",
      "        [1., 0., 1., 1.]], device='cuda:0')\n",
      "z3=tensor([[1., 0., 1., 1.],\n",
      "        [1., 0., 1., 1.],\n",
      "        [1., 0., 1., 1.],\n",
      "        [1., 0., 1., 1.]], device='cuda:0')\n",
      "agg=tensor(12., device='cuda:0')\n",
      "agg_item=12.0\n"
     ]
    }
   ],
   "source": [
    "import torch\n",
    "import numpy as np\n",
    "\n",
    "tensor = torch.ones(4, 4)\n",
    "\n",
    "if torch.accelerator.is_available():\n",
    "    print(\"Using the GPU\")\n",
    "    tensor = tensor.to(\"cuda\")\n",
    "\n",
    "    print(f\"Device tensor is stored on: {tensor.device}\")\n",
    "    print(f\"First row: {tensor[0]}\")\n",
    "    print(f\"Fist columns: {tensor[:, 0]}\")\n",
    "    print(f\"Last column: {tensor[..., -1]}\")\n",
    "\n",
    "    tensor[:, 1] = 0\n",
    "    print(tensor)\n",
    "\n",
    "    # Arithmetic operations\n",
    "\n",
    "    y1 = tensor @ tensor.T\n",
    "    y2 = tensor.matmul(tensor.T)\n",
    "\n",
    "    y3 = torch.rand_like(y1)\n",
    "    torch.matmul(tensor, tensor.T, out=y3)\n",
    "\n",
    "    print(f\"{y1=}\")\n",
    "    print(f\"{y2=}\")\n",
    "    print(f\"{y3=}\")\n",
    "\n",
    "    z1 = tensor * tensor\n",
    "    z2 = tensor.mul(tensor)\n",
    "\n",
    "    z3 = torch.rand_like(tensor)\n",
    "    torch.mul(tensor, tensor, out=z3)\n",
    "\n",
    "    print(f\"{z1=}\")\n",
    "    print(f\"{z2=}\")\n",
    "    print(f\"{z3=}\")\n",
    "\n",
    "    # Single-element tensors\n",
    "\n",
    "    agg = tensor.sum()\n",
    "    agg_item = agg.item()\n",
    "    print(f\"{agg=}\")\n",
    "    print(f\"{agg_item=}\")\n",
    "else:\n",
    "    print(\"Using the CPU\")"
   ]
  },
  {
   "cell_type": "code",
   "execution_count": null,
   "metadata": {},
   "outputs": [
    {
     "name": "stderr",
     "output_type": "stream",
     "text": [
      "100.0%\n",
      "100.0%\n",
      "100.0%\n",
      "100.0%\n"
     ]
    }
   ],
   "source": [
    "import torch\n",
    "from torch.utils.data import Dataset\n",
    "from torchvision import datasets\n",
    "from torchvision.transforms import ToTensor\n",
    "import matplotlib.pyplot as plt\n",
    "\n",
    "training_data = datasets.FashionMNIST(\n",
    "    root=\"../dataset/FashionMNIST\", train=True, download=True, transform=ToTensor()\n",
    ")\n",
    "\n",
    "test_data = datasets.FashionMNIST(\n",
    "    root=\"../dataset/FashionMNIST\", train=False, download=True, transform=ToTensor()\n",
    ")"
   ]
  },
  {
   "cell_type": "code",
   "execution_count": null,
   "metadata": {},
   "outputs": [
    {
     "data": {
      "image/png": "[encoded data removed]",
      "text/plain": [
       "<Figure size 800x800 with 9 Axes>"
      ]
     },
     "metadata": {},
     "output_type": "display_data"
    }
   ],
   "source": [
    "labels_map = {\n",
    "    0: \"T-Shirt\",\n",
    "    1: \"Trouser\",\n",
    "    2: \"Pullover\",\n",
    "    3: \"Dress\",\n",
    "    4: \"Coat\",\n",
    "    5: \"Sandal\",\n",
    "    6: \"Shirt\",\n",
    "    7: \"Sneaker\",\n",
    "    8: \"Bag\",\n",
    "    9: \"Ankle Boot\",\n",
    "}\n",
    "figure = plt.figure(figsize=(8, 8))\n",
    "cols, rows = 3, 3\n",
    "for i in range(1, cols * rows + 1):\n",
    "    sample_idx = torch.randint(len(training_data), size=(1,)).item()\n",
    "    img, label = training_data[sample_idx]\n",
    "    figure.add_subplot(rows, cols, i)\n",
    "    plt.title(labels_map[label])\n",
    "    plt.axis(\"off\")\n",
    "    plt.imshow(img.squeeze(), cmap=\"gray\")\n",
    "plt.show()"
   ]
  },
  {
   "cell_type": "code",
   "execution_count": null,
   "metadata": {},
   "outputs": [
    {
     "name": "stdout",
     "output_type": "stream",
     "text": [
      "3 28x28 image batch: torch.Size([3, 28, 28])\n",
      "Batch size after flattening: torch.Size([3, 784])\n",
      "Hidden layer size: torch.Size([3, 20])\n",
      "Before ReLU: tensor([[-0.0747, -0.2124,  0.1672, -0.0882, -0.4616,  0.3711, -0.3026,  0.2114,\n",
      "          0.2297,  0.6061,  0.1996, -0.1467, -0.1610, -0.3126,  0.1366,  0.4183,\n",
      "         -1.0885, -0.4642, -0.1346, -0.0627],\n",
      "        [-0.1358, -0.0667, -0.0679,  0.4200, -0.5745,  0.2542, -0.4011,  0.3127,\n",
      "          0.2813,  0.5764,  0.8451, -0.5581, -0.2586,  0.1217,  0.0717,  0.0315,\n",
      "         -1.2931, -0.2763, -0.6701,  0.0153],\n",
      "        [-0.2775, -0.0959,  0.2704, -0.2414, -0.6923, -0.1451, -0.2857, -0.0717,\n",
      "          0.1255,  0.3985,  0.3424, -0.2874, -0.4140, -0.2243,  0.0721,  0.1210,\n",
      "         -0.7980, -0.4848, -0.3502, -0.1636]], grad_fn=<AddmmBackward0>)\n",
      "\n",
      "\n",
      "After ReLU: tensor([[0.0000, 0.0000, 0.1672, 0.0000, 0.0000, 0.3711, 0.0000, 0.2114, 0.2297,\n",
      "         0.6061, 0.1996, 0.0000, 0.0000, 0.0000, 0.1366, 0.4183, 0.0000, 0.0000,\n",
      "         0.0000, 0.0000],\n",
      "        [0.0000, 0.0000, 0.0000, 0.4200, 0.0000, 0.2542, 0.0000, 0.3127, 0.2813,\n",
      "         0.5764, 0.8451, 0.0000, 0.0000, 0.1217, 0.0717, 0.0315, 0.0000, 0.0000,\n",
      "         0.0000, 0.0153],\n",
      "        [0.0000, 0.0000, 0.2704, 0.0000, 0.0000, 0.0000, 0.0000, 0.0000, 0.1255,\n",
      "         0.3985, 0.3424, 0.0000, 0.0000, 0.0000, 0.0721, 0.1210, 0.0000, 0.0000,\n",
      "         0.0000, 0.0000]], grad_fn=<ReluBackward0>)\n",
      "Prediction probability: tensor([[0.0874, 0.1012, 0.1144, 0.0909, 0.1032, 0.0810, 0.0962, 0.1091, 0.0844,\n",
      "         0.1322],\n",
      "        [0.0998, 0.1017, 0.1142, 0.0913, 0.0968, 0.0865, 0.0920, 0.1128, 0.0842,\n",
      "         0.1209],\n",
      "        [0.0945, 0.0979, 0.1235, 0.0966, 0.1004, 0.0832, 0.0966, 0.1084, 0.0753,\n",
      "         0.1237]], grad_fn=<SoftmaxBackward0>)\n"
     ]
    }
   ],
   "source": [
    "import torch\n",
    "\n",
    "# device = torch.accelerator.current_accelerator().type if torch.accelerator.is_available() else \"cpu\"\n",
    "# print(f\"Using {device} device\", end=\"\\n\\n\")\n",
    "\n",
    "# Neural Netowrk layers\n",
    "\n",
    "input_image = torch.rand(3,28,28)\n",
    "print(f\"3 28x28 image batch: {input_image.size()}\")\n",
    "\n",
    "flatten = torch.nn.Flatten()\n",
    "flat_image = flatten(input_image)\n",
    "print(f\"Batch size after flattening: {flat_image.size()}\")\n",
    "\n",
    "layer1 = torch.nn.Linear(in_features=28*28, out_features=20)\n",
    "hidden1 = layer1(flat_image)\n",
    "print(f\"Hidden layer size: {hidden1.size()}\")\n",
    "\n",
    "print(f\"Before ReLU: {hidden1}\\n\\n\")\n",
    "hidden1 = torch.nn.ReLU()(hidden1)\n",
    "print(f\"After ReLU: {hidden1}\")\n",
    "\n",
    "seq_modules = torch.nn.Sequential(\n",
    "    flatten,\n",
    "    layer1,\n",
    "    torch.nn.ReLU(),\n",
    "    torch.nn.Linear(20, 10)\n",
    ")\n",
    "\n",
    "input_image = torch.rand(3, 28, 28)\n",
    "logits = seq_modules(input_image)\n",
    "softmax = torch.nn.Softmax(dim=1)\n",
    "pred_probab = softmax(logits)\n",
    "\n",
    "print(f\"Prediction probability: {pred_probab}\")"
   ]
  }
 ],
 "metadata": {
  "kernelspec": {
   "display_name": ".venv",
   "language": "python",
   "name": "python3"
  },
  "language_info": {
   "codemirror_mode": {
    "name": "ipython",
    "version": 3
   },
   "file_extension": ".py",
   "mimetype": "text/x-python",
   "name": "python",
   "nbconvert_exporter": "python",
   "pygments_lexer": "ipython3",
   "version": "3.12.4"
  }
 },
 "nbformat": 4,
 "nbformat_minor": 2
}
